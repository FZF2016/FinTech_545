{
 "cells": [
  {
   "cell_type": "code",
   "execution_count": 1,
   "metadata": {},
   "outputs": [],
   "source": [
    "import pandas as pd\n",
    "import numpy as np\n",
    "import scipy.stats as stats\n",
    "from scipy.optimize import brentq\n",
    "from scipy.stats import t, norm\n",
    "import matplotlib.pyplot as plt"
   ]
  },
  {
   "cell_type": "markdown",
   "metadata": {},
   "source": [
    "## Question 1"
   ]
  },
  {
   "cell_type": "code",
   "execution_count": 2,
   "metadata": {},
   "outputs": [],
   "source": [
    "df1 = pd. read_csv(\"DailyPrices.csv\", parse_dates=[\"Date\"], index_col=\"Date\")"
   ]
  },
  {
   "cell_type": "markdown",
   "metadata": {},
   "source": [
    "#### 1A"
   ]
  },
  {
   "cell_type": "code",
   "execution_count": 3,
   "metadata": {},
   "outputs": [
    {
     "name": "stdout",
     "output_type": "stream",
     "text": [
      "last 5 rows of demeaned arithmetic returns\n",
      "                 SPY      AAPL      EQIX\n",
      "Date                                    \n",
      "2024-12-27 -0.011492 -0.014678 -0.006966\n",
      "2024-12-30 -0.012377 -0.014699 -0.008064\n",
      "2024-12-31 -0.004603 -0.008493  0.006512\n",
      "2025-01-02 -0.003422 -0.027671  0.000497\n",
      "2025-01-03  0.011538 -0.003445  0.015745\n",
      "\n",
      "standard deviations of demeaned arithmetic returns\n",
      "SPY     0.008077\n",
      "AAPL    0.013483\n",
      "EQIX    0.015361\n",
      "dtype: float64\n"
     ]
    }
   ],
   "source": [
    "arith_returns = df1[['SPY', 'AAPL', 'EQIX']].pct_change().dropna()\n",
    "arith_demeaned = arith_returns - arith_returns.mean()\n",
    "\n",
    "print (\"last 5 rows of demeaned arithmetic returns\")\n",
    "print(arith_demeaned. tail(5))\n",
    "print(\"\\nstandard deviations of demeaned arithmetic returns\")\n",
    "print(arith_demeaned. std ())"
   ]
  },
  {
   "cell_type": "markdown",
   "metadata": {},
   "source": [
    "#### 1B"
   ]
  },
  {
   "cell_type": "code",
   "execution_count": 4,
   "metadata": {},
   "outputs": [
    {
     "name": "stdout",
     "output_type": "stream",
     "text": [
      "last 5 rows of demeaned log returns\n",
      "                 SPY      AAPL      EQIX\n",
      "Date                                    \n",
      "2024-12-27 -0.011515 -0.014675 -0.006867\n",
      "2024-12-30 -0.012410 -0.014696 -0.007972\n",
      "2024-12-31 -0.004577 -0.008427  0.006602\n",
      "2025-01-02 -0.003392 -0.027930  0.000613\n",
      "2025-01-03  0.011494 -0.003356  0.015725\n",
      "\n",
      "standard deviations of demeaned log returns\n",
      "SPY     0.008078\n",
      "AAPL    0.013446\n",
      "EQIX    0.015270\n",
      "dtype: float64\n"
     ]
    }
   ],
   "source": [
    "log_returns = np. log(df1[['SPY', 'AAPL', 'EQIX']]) - np. log(df1[['SPY', 'AAPL', 'EQIX']].shift (1))\n",
    "log_returns = log_returns.dropna()\n",
    "log_demeaned = log_returns - log_returns.mean()\n",
    "print(\"last 5 rows of demeaned log returns\")\n",
    "print(log_demeaned. tail ())\n",
    "print(\"\\nstandard deviations of demeaned log returns\")\n",
    "print (log_demeaned. std())"
   ]
  },
  {
   "cell_type": "markdown",
   "metadata": {},
   "source": [
    "## Question 2"
   ]
  },
  {
   "cell_type": "markdown",
   "metadata": {},
   "source": [
    "#### 2A"
   ]
  },
  {
   "cell_type": "code",
   "execution_count": 5,
   "metadata": {},
   "outputs": [
    {
     "name": "stdout",
     "output_type": "stream",
     "text": [
      "current value: 251862.4969\n"
     ]
    }
   ],
   "source": [
    "df2 = pd.read_csv('DailyPrices.csv')[['Date', 'SPY', 'AAPL', 'EQIX']]\n",
    "\n",
    "holdings = {\n",
    "    'SPY': 100,\n",
    "    'AAPL': 200,\n",
    "    'EQIX': 150\n",
    "}\n",
    "\n",
    "current_date = '2025-01-03'\n",
    "df_current = df2[df2['Date'] == current_date]\n",
    "current_value = sum(holdings[sym] * df_current[sym].values[0] for sym in holdings)\n",
    "print(f'current value: {current_value:.4f}')"
   ]
  },
  {
   "cell_type": "code",
   "execution_count": 6,
   "metadata": {},
   "outputs": [
    {
     "data": {
      "text/html": [
       "<div>\n",
       "<style scoped>\n",
       "    .dataframe tbody tr th:only-of-type {\n",
       "        vertical-align: middle;\n",
       "    }\n",
       "\n",
       "    .dataframe tbody tr th {\n",
       "        vertical-align: top;\n",
       "    }\n",
       "\n",
       "    .dataframe thead th {\n",
       "        text-align: right;\n",
       "    }\n",
       "</style>\n",
       "<table border=\"1\" class=\"dataframe\">\n",
       "  <thead>\n",
       "    <tr style=\"text-align: right;\">\n",
       "      <th></th>\n",
       "      <th>Date</th>\n",
       "      <th>SPY</th>\n",
       "      <th>AAPL</th>\n",
       "      <th>EQIX</th>\n",
       "    </tr>\n",
       "  </thead>\n",
       "  <tbody>\n",
       "    <tr>\n",
       "      <th>503</th>\n",
       "      <td>2025-01-03</td>\n",
       "      <td>591.950012</td>\n",
       "      <td>243.360001</td>\n",
       "      <td>959.969971</td>\n",
       "    </tr>\n",
       "  </tbody>\n",
       "</table>\n",
       "</div>"
      ],
      "text/plain": [
       "           Date         SPY        AAPL        EQIX\n",
       "503  2025-01-03  591.950012  243.360001  959.969971"
      ]
     },
     "execution_count": 6,
     "metadata": {},
     "output_type": "execute_result"
    }
   ],
   "source": [
    "df_current"
   ]
  },
  {
   "cell_type": "markdown",
   "metadata": {},
   "source": [
    "#### 2B"
   ]
  },
  {
   "cell_type": "code",
   "execution_count": 7,
   "metadata": {},
   "outputs": [
    {
     "name": "stdout",
     "output_type": "stream",
     "text": [
      "Normal distribution result:\n",
      "100SPY: VaR = $811.49, ES = $1,017.65\n",
      "200AAPL: VaR = $958.43, ES = $1,201.91\n",
      "150EQIX: VaR = $2,905.43, ES = $3,643.52\n",
      "Portfolio: VaR = $3,829.45, ES = $4,802.28\n",
      "\n",
      "T and Gaussian Copula result:\n",
      "100SPY: VaR = $722.04, ES = $1,088.40\n",
      "200AAPL: VaR = $992.48, ES = $1,495.44\n",
      "150EQIX: VaR = $3,329.19, ES = $5,011.14\n",
      "Portfolio: VaR = $4,253.25, ES = $6,189.33\n",
      "\n",
      "Historical simulation result:\n",
      "100SPY: VaR = $871.06, ES = $1,078.74\n",
      "200AAPL: VaR = $1,068.56, ES = $1,438.12\n",
      "150EQIX: VaR = $3,638.52, ES = $4,710.38\n",
      "Portfolio: VaR = $4,570.61, ES = $6,053.84\n"
     ]
    }
   ],
   "source": [
    "pct_ret = df2.loc[df2['Date'] < current_date, ['SPY', 'AAPL', 'EQIX']].pct_change().dropna()\n",
    "pct_ret = pct_ret - pct_ret.mean()\n",
    "\n",
    "def compute_exp_weights(num_obs: int, decay: float) -> np.ndarray:\n",
    "    idx = np.arange(1, num_obs + 1)\n",
    "    raw_weights = (1 - decay) * (decay ** idx)\n",
    "    return raw_weights / raw_weights.sum()\n",
    "\n",
    "def calc_exp_weighted_cov(data_df: pd.DataFrame, decay: float) -> pd.DataFrame:\n",
    "    n_obs = len(data_df)\n",
    "    exp_weights = compute_exp_weights(n_obs, decay)[::-1]\n",
    "    avg_vals = np.average(data_df, axis=0, weights=exp_weights)\n",
    "    centered_vals = data_df - avg_vals\n",
    "    cov_matrix = np.dot((centered_vals * exp_weights[:, None]).T, centered_vals)\n",
    "    return pd.DataFrame(cov_matrix, index=data_df.columns, columns=data_df.columns)\n",
    "\n",
    "def calc_normal_risk_metrics(vol: float, conf: float = 0.05):\n",
    "    quant = norm.ppf(conf)\n",
    "    var_metric = - quant * vol\n",
    "    es_metric = vol * (norm.pdf(quant) / conf)\n",
    "    return var_metric, es_metric\n",
    "\n",
    "# a: Normally distributed with exponentially weighted covariance with lambda=0.97\n",
    "decay_rate = 0.97\n",
    "vols_exp = {}\n",
    "for ticker in ['SPY', 'AAPL', 'EQIX']:\n",
    "    cov_df = calc_exp_weighted_cov(pct_ret[[ticker]], decay_rate)\n",
    "    vol_sq = cov_df.loc[ticker, ticker]\n",
    "    vols_exp[ticker] = np.sqrt(vol_sq)\n",
    "\n",
    "normal_results = {}\n",
    "for sec in holdings:\n",
    "    pos_val = holdings[sec] * df_current[sec].iloc[0]\n",
    "    var_norm, es_norm = calc_normal_risk_metrics(vols_exp[sec])\n",
    "    normal_results[sec] = {'VaR': pos_val * var_norm, 'ES': pos_val * es_norm}\n",
    "\n",
    "full_cov = calc_exp_weighted_cov(pct_ret, decay_rate).values\n",
    "pos_array = np.array([holdings[sym] * df_current[sym].iloc[0] for sym in ['SPY', 'AAPL', 'EQIX']])\n",
    "port_var = pos_array @ full_cov @ pos_array\n",
    "port_vol = np.sqrt(port_var)\n",
    "pvar, pes = calc_normal_risk_metrics(port_vol)\n",
    "normal_results['Portfolio'] = {'VaR': pvar, 'ES': pes}\n",
    "\n",
    "print(\"Normal distribution result:\")\n",
    "for label, res in normal_results.items():\n",
    "    if not label == 'Portfolio':\n",
    "        print(f\"{holdings[label]}{label}: VaR = ${res['VaR']:,.2f}, ES = ${res['ES']:,.2f}\")\n",
    "    else:\n",
    "        print(f\"{label}: VaR = ${res['VaR']:,.2f}, ES = ${res['ES']:,.2f}\")\n",
    "# b. T distribution using a Gaussian Copula\n",
    "df_t = 4\n",
    "n_sim = 100000\n",
    "\n",
    "std_dev = pct_ret.std()\n",
    "t_scale = std_dev * np.sqrt((df_t - 2) / df_t)\n",
    "corr_mat = pct_ret[['SPY', 'AAPL', 'EQIX']].corr()\n",
    "\n",
    "mu_vec = np.zeros(3)\n",
    "norm_samples = np.random.multivariate_normal(mu_vec, corr_mat, size=n_sim)\n",
    "u_samples = norm.cdf(norm_samples)\n",
    "\n",
    "t_sample_arr = np.empty_like(u_samples)\n",
    "for idx, sec in enumerate(['SPY', 'AAPL', 'EQIX']):\n",
    "    t_sample_arr[:, idx] = t.ppf(u_samples[:, idx], df=df_t) * t_scale[sec]\n",
    "\n",
    "simulated_rtns = {}\n",
    "t_results = {}\n",
    "for j, sec in enumerate(['SPY', 'AAPL', 'EQIX']):\n",
    "    current_pos = holdings[sec] * df_current[sec].iloc[0]\n",
    "    dollar_ret = current_pos * t_sample_arr[:, j]\n",
    "    simulated_rtns[sec] = dollar_ret\n",
    "    var_sim = -np.percentile(dollar_ret, 5)\n",
    "    es_sim = -dollar_ret[dollar_ret <= np.percentile(dollar_ret, 5)].mean()\n",
    "    t_results[sec] = {'VaR': var_sim, 'ES': es_sim}\n",
    "\n",
    "port_sim_rtn = np.sum(np.column_stack([simulated_rtns[sec] for sec in ['SPY', 'AAPL', 'EQIX']]), axis=1)\n",
    "port_var_sim = -np.percentile(port_sim_rtn, 5)\n",
    "port_es_sim = -port_sim_rtn[port_sim_rtn <= np.percentile(port_sim_rtn, 5)].mean()\n",
    "t_results['Portfolio'] = {'VaR': port_var_sim, 'ES': port_es_sim}\n",
    "\n",
    "print(\"\\nT and Gaussian Copula result:\")\n",
    "for label, res in t_results.items():\n",
    "    if not label == 'Portfolio':\n",
    "        print(f\"{holdings[label]}{label}: VaR = ${res['VaR']:,.2f}, ES = ${res['ES']:,.2f}\")\n",
    "    else:\n",
    "        print(f\"{label}: VaR = ${res['VaR']:,.2f}, ES = ${res['ES']:,.2f}\")\n",
    "\n",
    "# c. Historical data\n",
    "hist_results = {}\n",
    "for sec in ['SPY', 'AAPL', 'EQIX']:\n",
    "    pos_amount = holdings[sec] * df_current[sec].iloc[0]\n",
    "    var_hist = -np.percentile(pct_ret[sec], 5)\n",
    "    es_hist = -pct_ret[sec][pct_ret[sec] <= np.percentile(pct_ret[sec], 5)].mean()\n",
    "    hist_results[sec] = {'VaR': pos_amount * var_hist, 'ES': pos_amount * es_hist}\n",
    "\n",
    "port_hist = (holdings['SPY'] * df_current['SPY'].iloc[0] * pct_ret['SPY'] +\n",
    "             holdings['AAPL'] * df_current['AAPL'].iloc[0] * pct_ret['AAPL'] +\n",
    "             holdings['EQIX'] * df_current['EQIX'].iloc[0] * pct_ret['EQIX']).values\n",
    "port_var_hist = -np.percentile(port_hist, 5)\n",
    "port_es_hist = -port_hist[port_hist <= np.percentile(port_hist, 5)].mean()\n",
    "hist_results['Portfolio'] = {'VaR': port_var_hist, 'ES': port_es_hist}\n",
    "\n",
    "print(\"\\nHistorical simulation result:\")\n",
    "for label, res in hist_results.items():\n",
    "    if not label == 'Portfolio':\n",
    "        print(f\"{holdings[label]}{label}: VaR = ${res['VaR']:,.2f}, ES = ${res['ES']:,.2f}\")\n",
    "    else:\n",
    "        print(f\"{label}: VaR = ${res['VaR']:,.2f}, ES = ${res['ES']:,.2f}\")\n"
   ]
  },
  {
   "cell_type": "markdown",
   "metadata": {},
   "source": [
    "## Question 3"
   ]
  },
  {
   "cell_type": "markdown",
   "metadata": {},
   "source": [
    "#### 3A"
   ]
  },
  {
   "cell_type": "code",
   "execution_count": 8,
   "metadata": {},
   "outputs": [
    {
     "name": "stdout",
     "output_type": "stream",
     "text": [
      "implied volatility: 0.3351\n"
     ]
    }
   ],
   "source": [
    "S = 31  \n",
    "K = 30   \n",
    "T = 0.25 \n",
    "r = 0.10 \n",
    "call_price = 3.00 \n",
    "\n",
    "def calc_iv(call_price, S, K, T, r):\n",
    "    def objective_function(sigma):\n",
    "        return black_scholes_call(S, K, T, r, sigma) - call_price\n",
    "    return brentq(objective_function, 0.01, 2.0)  \n",
    "\n",
    "def black_scholes_call(S, K, T, r, sigma):\n",
    "    d1 = (np.log(S / K) + (r + 0.5 * sigma ** 2) * T) / (sigma * np.sqrt(T))\n",
    "    d2 = d1 - sigma * np.sqrt(T)\n",
    "    return S * stats.norm.cdf(d1) - K * np.exp(-r * T) * stats.norm.cdf(d2)\n",
    "\n",
    "iv = calc_iv(call_price, S, K, T, r)\n",
    "print(f\"implied volatility: {iv:.4f}\")"
   ]
  },
  {
   "cell_type": "markdown",
   "metadata": {},
   "source": [
    "#### 3B"
   ]
  },
  {
   "cell_type": "code",
   "execution_count": 9,
   "metadata": {},
   "outputs": [
    {
     "name": "stdout",
     "output_type": "stream",
     "text": [
      "call option:\n",
      "delta: 0.6659, vega: 5.6407, theta: -5.5446, price change: 0.0564\n"
     ]
    }
   ],
   "source": [
    "d1 = (np.log(S / K) + (r + 0.5 * iv ** 2) * T) / (iv * np.sqrt(T))\n",
    "d2 = d1 - iv * np.sqrt(T)\n",
    "delta_call = stats.norm.cdf(d1)\n",
    "vega_call = S * np.sqrt(T) * stats.norm.pdf(d1)\n",
    "call_change = vega_call * 0.01 \n",
    "theta_call = (-1 * S * stats.norm.pdf(d1) * iv) / (2 * np.sqrt(T)) - (r * K * np.exp(-r * T) * stats.norm.cdf(d2))\n",
    "print(f'call option:\\ndelta: {delta_call:.4f}, vega: {vega_call:.4f}, theta: {theta_call:.4f}, price change: {call_change:.4f}')"
   ]
  },
  {
   "cell_type": "markdown",
   "metadata": {},
   "source": [
    "#### 3C"
   ]
  },
  {
   "cell_type": "code",
   "execution_count": 10,
   "metadata": {},
   "outputs": [
    {
     "name": "stdout",
     "output_type": "stream",
     "text": [
      "put option: 1.2593\n"
     ]
    }
   ],
   "source": [
    "def black_scholes_put(S, K, T, r, sigma):\n",
    "    d1 = (np.log(S / K) + (r + 0.5 * sigma ** 2) * T) / (sigma * np.sqrt(T))\n",
    "    d2 = d1 - sigma * np.sqrt(T)\n",
    "    return (K * np.exp(-r * T) * stats.norm.cdf(-d2) - S * stats.norm.cdf(-d1))\n",
    "put_price = black_scholes_put(S, K, T, r, iv)\n",
    "print(f'put option: {put_price:.4f}')"
   ]
  },
  {
   "cell_type": "markdown",
   "metadata": {},
   "source": [
    "#### 3D"
   ]
  },
  {
   "cell_type": "code",
   "execution_count": 11,
   "metadata": {},
   "outputs": [
    {
     "name": "stdout",
     "output_type": "stream",
     "text": [
      "Initial portfolio value: $35.2593\n",
      "\n",
      "Delta Normal Approximation:\n",
      "VaR = $5.3951\n",
      "ES  = $6.6030\n",
      "\n",
      "Monte Carlo Simulation:\n",
      "VaR = $4.2653\n",
      "ES  = $4.7291\n"
     ]
    }
   ],
   "source": [
    "c_price_mkt = 3\n",
    "annual_vol = 0.25\n",
    "time_step = 20 / 255\n",
    "\n",
    "port_init = c_price_mkt + put_price + S\n",
    "print(\"Initial portfolio value: ${:.4f}\".format(port_init))\n",
    "\n",
    "def bsGreeksPut(S, K, T, r, sigma):\n",
    "    d1 = (np.log(S / K) + (r + 0.5 * sigma ** 2) * T) / (sigma * np.sqrt(T))\n",
    "    d2 = d1 - sigma * np.sqrt(T)\n",
    "    delta = norm.cdf(d1) - 1\n",
    "    theta = (-S * norm.pdf(d1) * sigma / (2 * np.sqrt(T)) + r * K * np.exp(-r * T) * norm.cdf(-d2))\n",
    "    return delta, theta\n",
    "\n",
    "delta_put, theta_put = bsGreeksPut(S, K, T, r, iv)\n",
    "port_delta = delta_call + delta_put + 1\n",
    "port_theta = theta_call + theta_put\n",
    "\n",
    "sigma_stock_dt = annual_vol * np.sqrt(time_step)\n",
    "mu_port = port_theta * time_step\n",
    "sigma_port = port_delta * S * sigma_stock_dt\n",
    "\n",
    "z_value = norm.ppf(0.05)\n",
    "VaR_delta_normal = -(mu_port + sigma_port * z_value)\n",
    "ES_delta_normal = -mu_port + sigma_port * norm.pdf(z_value) / 0.05\n",
    "\n",
    "print(\"\\nDelta Normal Approximation:\")\n",
    "print(\"VaR = ${:.4f}\".format(VaR_delta_normal))\n",
    "print(\"ES  = ${:.4f}\".format(ES_delta_normal))\n",
    "\n",
    "\n",
    "N_sim = 100000\n",
    "z = np.random.normal(0, 1, N_sim)\n",
    "S_sim = S + S * annual_vol * np.sqrt(time_step) * z  # simulate stock price after 20 days\n",
    "T_new = T - time_step\n",
    "\n",
    "call_sim = np.array([black_scholes_call(s, K, T_new, r, iv) for s in S_sim])\n",
    "put_sim = np.array([black_scholes_put(s, K, T_new, r, iv) for s in S_sim])\n",
    "portfolio_sim = call_sim + put_sim + S_sim\n",
    "\n",
    "\n",
    "losses =  portfolio_sim- port_init\n",
    "\n",
    "VaR_MC = - np.percentile(losses, 5)\n",
    "ES_MC = - losses[losses <= - VaR_MC].mean()\n",
    "\n",
    "print(\"\\nMonte Carlo Simulation:\")\n",
    "print(\"VaR = ${:.4f}\".format(VaR_MC))\n",
    "print(\"ES  = ${:.4f}\".format(ES_MC))"
   ]
  },
  {
   "cell_type": "markdown",
   "metadata": {},
   "source": [
    "#### 3E"
   ]
  },
  {
   "cell_type": "code",
   "execution_count": 12,
   "metadata": {},
   "outputs": [
    {
     "data": {
      "text/plain": [
       "<matplotlib.legend.Legend at 0x1387d35c0>"
      ]
     },
     "execution_count": 12,
     "metadata": {},
     "output_type": "execute_result"
    },
    {
     "data": {
      "image/png": "[encoded data removed]",
      "text/plain": [
       "<Figure size 640x480 with 1 Axes>"
      ]
     },
     "metadata": {},
     "output_type": "display_data"
    }
   ],
   "source": [
    "S_range = np.linspace(20, 40, 200)\n",
    "portfolio_values = port_init + port_delta * (S_range - S) + port_theta * time_step\n",
    "\n",
    "plt.plot(S_range, portfolio_values, label=\"Delta-Normal Approximation\", lw=2)\n",
    "plt.xlabel(\"Stock Price\")\n",
    "plt.ylabel(\"Portfolio Value\")\n",
    "plt.title(\"Portfolio Value vs. Stock Price (Delta-Normal Approximation)\")\n",
    "plt.legend()"
   ]
  },
  {
   "cell_type": "code",
   "execution_count": 13,
   "metadata": {},
   "outputs": [
    {
     "data": {
      "text/plain": [
       "Text(0.5, 1.0, 'Monte Carlo Simulation: Portfolio Value vs Stock Value')"
      ]
     },
     "execution_count": 13,
     "metadata": {},
     "output_type": "execute_result"
    },
    {
     "data": {
      "image/png": "[encoded data removed]",
      "text/plain": [
       "<Figure size 640x480 with 1 Axes>"
      ]
     },
     "metadata": {},
     "output_type": "display_data"
    }
   ],
   "source": [
    "plt.scatter(S_sim, portfolio_sim, alpha=0.1, s=10)\n",
    "plt.xlabel(\"Stock Price after 20 days\")\n",
    "plt.ylabel(\"Portfolio Value after 20 days\")\n",
    "plt.title(\"Monte Carlo Simulation: Portfolio Value vs Stock Value\")"
   ]
  }
 ],
 "metadata": {
  "kernelspec": {
   "display_name": "Python 3",
   "language": "python",
   "name": "python3"
  },
  "language_info": {
   "codemirror_mode": {
    "name": "ipython",
    "version": 3
   },
   "file_extension": ".py",
   "mimetype": "text/x-python",
   "name": "python",
   "nbconvert_exporter": "python",
   "pygments_lexer": "ipython3",
   "version": "3.12.8"
  }
 },
 "nbformat": 4,
 "nbformat_minor": 2
}
